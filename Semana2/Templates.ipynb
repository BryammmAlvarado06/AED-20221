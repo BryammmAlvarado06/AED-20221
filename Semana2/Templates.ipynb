{
  "nbformat": 4,
  "nbformat_minor": 0,
  "metadata": {
    "colab": {
      "name": "Semana2-Templates.ipynb",
      "provenance": [],
      "collapsed_sections": [],
      "authorship_tag": "ABX9TyNj4b14qUDWOW3KjUk9Mp8C"
    },
    "kernelspec": {
      "name": "python3",
      "display_name": "Python 3"
    },
    "language_info": {
      "name": "python"
    }
  },
  "cells": [
    {
      "cell_type": "markdown",
      "source": [
        "#Ejemplo1"
      ],
      "metadata": {
        "id": "FnAgn3pt5qJB"
      }
    },
    {
      "cell_type": "code",
      "execution_count": 8,
      "metadata": {
        "colab": {
          "base_uri": "https://localhost:8080/"
        },
        "id": "ocRXN5sb4w28",
        "outputId": "9ccba43e-c495-49de-b198-534c1f68ebe8"
      },
      "outputs": [
        {
          "output_type": "stream",
          "name": "stdout",
          "text": [
            "Overwriting ejemplo1.cpp\n"
          ]
        }
      ],
      "source": [
        "%%writefile ejemplo1.cpp\n",
        "#include <iostream>\n",
        "using std::cout;\n",
        "int main(){\n",
        "    cout<<\"Probando desde google colab\";\n",
        "    return 0;\n",
        "}"
      ]
    },
    {
      "cell_type": "code",
      "source": [
        "!g++ ejemplo1.cpp"
      ],
      "metadata": {
        "id": "YtG2-D6S6VBu"
      },
      "execution_count": 10,
      "outputs": []
    },
    {
      "cell_type": "code",
      "source": [
        "!./a.out"
      ],
      "metadata": {
        "colab": {
          "base_uri": "https://localhost:8080/"
        },
        "id": "h7TJUnnR7Mb2",
        "outputId": "ba60c734-4797-4e48-a0f3-53feda9e1a01"
      },
      "execution_count": 11,
      "outputs": [
        {
          "output_type": "stream",
          "name": "stdout",
          "text": [
            "Probando desde google colab"
          ]
        }
      ]
    },
    {
      "cell_type": "code",
      "source": [
        "!g++ -std=c++1z ejemplo1.cpp && ./a.out"
      ],
      "metadata": {
        "colab": {
          "base_uri": "https://localhost:8080/"
        },
        "id": "ehu3Bfwq8kF7",
        "outputId": "fc82f1db-2127-48e4-d2d2-0d747ddcaa38"
      },
      "execution_count": 15,
      "outputs": [
        {
          "output_type": "stream",
          "name": "stdout",
          "text": [
            "Probando desde google colab"
          ]
        }
      ]
    },
    {
      "cell_type": "markdown",
      "source": [
        "#Ejemplo 2-Sin Templates"
      ],
      "metadata": {
        "id": "yWllE9Tx8BkB"
      }
    },
    {
      "cell_type": "code",
      "source": [
        "%%writefile Biblioteca.hpp\n",
        "//Definicion de bibliotecas, clases y funciones\n",
        "#include <iostream>\n",
        "#include <cstdlib>// srand, rand\n",
        "#include <ctime>//time\n",
        "\n",
        "using std::cout;\n",
        "using std::cin;\n",
        "//definición de la funcion\n",
        "void generar(short* a, size_t n);\n",
        "void listar(short*, size_t);\n",
        "void mayor(short*, size_t);\n",
        "void ordenar(short*, size_t);\n",
        "void mayorPromedio(short* a, size_t n);"
      ],
      "metadata": {
        "colab": {
          "base_uri": "https://localhost:8080/"
        },
        "id": "t2eQJDno7q__",
        "outputId": "3f79c511-f838-444f-88cb-ec64c0bf48cf"
      },
      "execution_count": 32,
      "outputs": [
        {
          "output_type": "stream",
          "name": "stdout",
          "text": [
            "Writing Biblioteca.hpp\n"
          ]
        }
      ]
    },
    {
      "cell_type": "code",
      "source": [
        "%%writefile Biblioteca.cpp\n",
        "//implementacion de las bibliotecas, clases  y funciones\n",
        "#include \"Biblioteca.hpp\"\n",
        "\n",
        "void generar(short* a, size_t n){\n",
        "  for(size_t i=0;i<n;++i){\n",
        "      a[i]=rand()%101+100;//rango de 100 a 200    \n",
        "  }  \n",
        "}\n",
        "\n",
        "void listar(short* a, size_t n){\n",
        "for(size_t i=0;i<n;++i){\n",
        "      cout<<i<<\"-> \"<<a[i]<<\"\\n\";\n",
        "  }  \n",
        "}\n",
        "\n",
        "void mayor(short* a, size_t n){\n",
        "  short _mayor=a[0], _pos=-1;\n",
        "  \n",
        "for(size_t i=1;i<n;++i){\n",
        "  if(a[i]>_mayor){\n",
        "      _mayor=a[i];//actualizo el mayor\n",
        "      _pos=i;\n",
        "    }\n",
        "  }\n",
        "  cout<<\"El mayor valor es\"<<_mayor<<\" y se encuentra en la posicion\"<<_pos<<\"\\n\";\n",
        "}\n",
        "void ordenar(short* a, size_t n){\n",
        "  for(int i=0;i<n-1;++i){\n",
        "  for(int j=i+1;j<n;++j){\n",
        "   if(a[i]>a[j]){\n",
        "    short aux=a[i];\n",
        "    a[i]=a[j];\n",
        "    a[j]=aux;\n",
        "  }\n",
        "}\n",
        "    }\n",
        "}\n",
        "void mayorPromedio(short* a, const size_t& n){\n",
        "  float prom=0.0f;    \n",
        "  //obteniendo el promedio\n",
        "  for(int i=0;i<n;++i)\n",
        "        prom+=a[i];\n",
        "  prom/=n;//prom=prom/n   \n",
        "  //listar mayor al promedio\n",
        "  for(int i=0;i<n;++i)\n",
        "        if(a[i]>prom)cout<<i<<\"->\"<<a[i]<<\"\\n\";\n",
        "  }"
      ],
      "metadata": {
        "colab": {
          "base_uri": "https://localhost:8080/"
        },
        "id": "Yv1-HvZe_lW1",
        "outputId": "a0640b80-7eec-4902-a3e5-edf91d2a7fa4"
      },
      "execution_count": 33,
      "outputs": [
        {
          "output_type": "stream",
          "name": "stdout",
          "text": [
            "Writing Biblioteca.cpp\n"
          ]
        }
      ]
    },
    {
      "cell_type": "code",
      "source": [
        "%%writefile Ejemplo.cpp\n",
        "#include \"Biblioteca.hpp\"\n",
        "int main() {\n",
        "short* arreglo=new short[100];  \n",
        "srand(time(NULL));//inicializacion de la semilla\n",
        "generar(arreglo,100);\n",
        "listar(arreglo, 100);\n",
        "//mayor(arreglo, 100);  \n",
        "ordenar(arreglo, 100);\n",
        "cout<<\"-------------\\n\";\n",
        "//listar(arreglo, 100);\n",
        "  mayorPromedio(arreglo, 100);\n",
        "  return 0;\n",
        "}"
      ],
      "metadata": {
        "colab": {
          "base_uri": "https://localhost:8080/"
        },
        "id": "qA7d1MtO_tk8",
        "outputId": "de6f6e1e-7e81-4fea-fb83-3ce27e29b4a5"
      },
      "execution_count": 34,
      "outputs": [
        {
          "output_type": "stream",
          "name": "stdout",
          "text": [
            "Overwriting Ejemplo.cpp\n"
          ]
        }
      ]
    },
    {
      "cell_type": "code",
      "source": [
        "!g++ -std=c++1y Biblioteca.cpp Ejemplo.cpp && ./a.out"
      ],
      "metadata": {
        "id": "RtSmnVXmAHdm"
      },
      "execution_count": null,
      "outputs": []
    },
    {
      "cell_type": "markdown",
      "source": [
        "#Ejemplo 3-Con Templates\n",
        "> Para que funciones con diferente tipo de dato"
      ],
      "metadata": {
        "id": "JKxK7-_-Fmhl"
      }
    },
    {
      "cell_type": "code",
      "source": [
        "%%writefile Biblioteca.hpp\n",
        "#include <iostream>\n",
        "using std::cout;\n",
        "using std::cin;\n",
        "template <typename Generico>//definir la funcion como template\n",
        "class Arreglo{\n",
        "    Generico* a;\n",
        "    size_t n;\n",
        " public:\n",
        "    Arreglo(){a=new Generico[10];n=0;}\n",
        "    Arreglo(Generico* _a, size_t _n){a=_a;n=_n;}\n",
        "    void insertar(Generico g){\n",
        "    if(n<10)\n",
        "      a[n++]=g; }\n",
        "    void listar(){\n",
        "      for(size_t i=0;i<n;++i)\n",
        "        cout<<i<<\"-> \"<<a[i]<<\"\\n\";    \n",
        "      } \n",
        "};"
      ],
      "metadata": {
        "colab": {
          "base_uri": "https://localhost:8080/"
        },
        "id": "gvwv-cRlFwcl",
        "outputId": "43cc0caa-f994-4ee7-94eb-3e6b1b372d16"
      },
      "execution_count": 49,
      "outputs": [
        {
          "output_type": "stream",
          "name": "stdout",
          "text": [
            "Overwriting Biblioteca.hpp\n"
          ]
        }
      ]
    },
    {
      "cell_type": "code",
      "source": [
        "%%writefile Ejemplo.cpp\n",
        "#include \"Biblioteca.hpp\"\n",
        "int main() {\n",
        "    Arreglo<int>*arrEnteros=new Arreglo<int>();\n",
        "    Arreglo<float>*arrDecimales=new Arreglo<float>();\n",
        "    for(size_t i=0;i<10;++i){\n",
        "        arrEnteros->insertar(i*10);\n",
        "        arrDecimales->insertar(i*1.123); }\n",
        "    arrEnteros->listar();\n",
        "    cout<<\"\\n\";\n",
        "    arrDecimales->listar();\n",
        "return 0;\n",
        "}"
      ],
      "metadata": {
        "colab": {
          "base_uri": "https://localhost:8080/"
        },
        "id": "AMHXMAcAGI7w",
        "outputId": "4ad80bd9-36f2-4407-95fe-b95703274afd"
      },
      "execution_count": 50,
      "outputs": [
        {
          "output_type": "stream",
          "name": "stdout",
          "text": [
            "Overwriting Ejemplo.cpp\n"
          ]
        }
      ]
    },
    {
      "cell_type": "code",
      "source": [
        "!g++ Ejemplo.cpp && ./a.out"
      ],
      "metadata": {
        "colab": {
          "base_uri": "https://localhost:8080/"
        },
        "id": "42ewmz0vJRBh",
        "outputId": "3aa767e1-b100-4b58-8015-de8236ab4a06"
      },
      "execution_count": 51,
      "outputs": [
        {
          "output_type": "stream",
          "name": "stdout",
          "text": [
            "0-> 0\n",
            "1-> 10\n",
            "2-> 20\n",
            "3-> 30\n",
            "4-> 40\n",
            "5-> 50\n",
            "6-> 60\n",
            "7-> 70\n",
            "8-> 80\n",
            "9-> 90\n",
            "\n",
            "0-> 0\n",
            "1-> 1.123\n",
            "2-> 2.246\n",
            "3-> 3.369\n",
            "4-> 4.492\n",
            "5-> 5.615\n",
            "6-> 6.738\n",
            "7-> 7.861\n",
            "8-> 8.984\n",
            "9-> 10.107\n"
          ]
        }
      ]
    },
    {
      "cell_type": "code",
      "source": [
        ""
      ],
      "metadata": {
        "id": "zAWdAEVwJVxK"
      },
      "execution_count": null,
      "outputs": []
    }
  ]
}