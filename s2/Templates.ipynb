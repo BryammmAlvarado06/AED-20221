{
  "nbformat": 4,
  "nbformat_minor": 0,
  "metadata": {
    "colab": {
      "name": "Templates.ipynb",
      "provenance": [],
      "collapsed_sections": [],
      "authorship_tag": "ABX9TyNZSIV3OjvoeIcJg2jtrPIx"
    },
    "kernelspec": {
      "name": "python3",
      "display_name": "Python 3"
    },
    "language_info": {
      "name": "python"
    }
  },
  "cells": [
    {
      "cell_type": "markdown",
      "source": [
        "# Ejemplo 1\n",
        "* primer programa"
      ],
      "metadata": {
        "id": "I0kowy8jEKuD"
      }
    },
    {
      "cell_type": "code",
      "execution_count": 5,
      "metadata": {
        "colab": {
          "base_uri": "https://localhost:8080/"
        },
        "id": "bJqMBwCPBmiw",
        "outputId": "d025b2ed-9325-4fa6-eab7-b96103601bc0"
      },
      "outputs": [
        {
          "output_type": "stream",
          "name": "stdout",
          "text": [
            "Overwriting ejemplo.cpp\n"
          ]
        }
      ],
      "source": [
        "%%writefile ejemplo.cpp\n",
        "#include <iostream>\n",
        "using namespace std;\n",
        "int main(){\n",
        "    cout<<\"UPC, exigete e innova\";\n",
        "    return 0;\n",
        "}"
      ]
    },
    {
      "cell_type": "markdown",
      "source": [
        "* Compilacion"
      ],
      "metadata": {
        "id": "jvNad-OzEApF"
      }
    },
    {
      "cell_type": "code",
      "source": [
        "!g++ ejemplo.cpp"
      ],
      "metadata": {
        "id": "ANNAmPtBDP2c"
      },
      "execution_count": 6,
      "outputs": []
    },
    {
      "cell_type": "markdown",
      "source": [
        "* Ejecución"
      ],
      "metadata": {
        "id": "M3YsIBIJEHz2"
      }
    },
    {
      "cell_type": "code",
      "source": [
        "!./a.out"
      ],
      "metadata": {
        "colab": {
          "base_uri": "https://localhost:8080/"
        },
        "id": "KaK07bNPDc_Q",
        "outputId": "d4aaaa01-36cc-45c1-d294-d6a912f20074"
      },
      "execution_count": 7,
      "outputs": [
        {
          "output_type": "stream",
          "name": "stdout",
          "text": [
            "UPC, exigete e innova"
          ]
        }
      ]
    },
    {
      "cell_type": "markdown",
      "source": [
        "* Compilación y ejecución"
      ],
      "metadata": {
        "id": "eitaDBPNEioO"
      }
    },
    {
      "cell_type": "code",
      "source": [
        "!g++ -std=c++1z ejemplo.cpp && ./a.out"
      ],
      "metadata": {
        "colab": {
          "base_uri": "https://localhost:8080/"
        },
        "id": "WlXMhQpUD4aR",
        "outputId": "e99a52e9-df61-4fb2-d40f-3bd5c6e3ead3"
      },
      "execution_count": 11,
      "outputs": [
        {
          "output_type": "stream",
          "name": "stdout",
          "text": [
            "UPC, exigete e innova"
          ]
        }
      ]
    },
    {
      "cell_type": "markdown",
      "source": [
        "# Ejemplo 2\n",
        "### Enunciado\n",
        "> Elaborar un programa en entorno consola que permita almacenar en un arreglo hasta 100 valores enteros. Luego realice lo siguiente:\n",
        "*\tGenerar los datos del arreglo en forma aleatoria\n",
        "*\tListar en pantalla los elementos del arreglo\n",
        "*\tBuscar el mayor y mostrar su ubicación\n",
        "*\tBuscar el menor y mostrar su ubicación\n",
        "*\tOrdenar el arreglo en forma descendente y mostrarlo en pantalla\n",
        "* En la solución considere un menú de opciones para cada funcionalidad y utilice funciones, punteros y arreglos dinámicos."
      ],
      "metadata": {
        "id": "euxh78KOFQy0"
      }
    },
    {
      "cell_type": "code",
      "source": [
        "%%writefile Biblioteca.hpp\n",
        "//Definicion de bibliotecas, clases y funciones\n",
        "#include <iostream>\n",
        "#include <cstdlib>// srand, rand\n",
        "#include <ctime>//time\n",
        "\n",
        "using std::cout;\n",
        "using std::cin;\n",
        "//definición de la funcion\n",
        "void generar(short* a, size_t n);\n",
        "void listar(short*, size_t);\n",
        "void mayor(short*, size_t);\n",
        "void ordenar(short*, size_t);\n",
        "void mayorPromedio(short* a, size_t n);"
      ],
      "metadata": {
        "colab": {
          "base_uri": "https://localhost:8080/"
        },
        "id": "PA7sBul0EuZI",
        "outputId": "18a3905d-920e-4d99-9fb5-cc4f08a1e6af"
      },
      "execution_count": 14,
      "outputs": [
        {
          "output_type": "stream",
          "name": "stdout",
          "text": [
            "Overwriting Biblioteca.hpp\n"
          ]
        }
      ]
    },
    {
      "cell_type": "code",
      "source": [
        "%%writefile Biblioteca.cpp\n",
        "//implementacion de las bibliotecas, clases  y funciones\n",
        "#include \"Biblioteca.hpp\"\n",
        "\n",
        "void generar(short* a, size_t n){\n",
        "  for(size_t i=0;i<n;++i){\n",
        "      a[i]=rand()%101+100;//rango de 100 a 200    \n",
        "  }  \n",
        "}\n",
        "\n",
        "void listar(short* a, size_t n){\n",
        "for(size_t i=0;i<n;++i){\n",
        "      cout<<i<<\"-> \"<<a[i]<<\"\\n\";\n",
        "  }  \n",
        "}\n",
        "\n",
        "void mayor(short* a, size_t n){\n",
        "  short _mayor=a[0], _pos=-1;\n",
        "  \n",
        "for(size_t i=1;i<n;++i){\n",
        "  if(a[i]>_mayor){\n",
        "      _mayor=a[i];//actualizo el mayor\n",
        "      _pos=i;\n",
        "    }\n",
        "  }\n",
        "  cout<<\"El mayor valor es\"<<_mayor<<\" y se encuentra en la posicion\"<<_pos<<\"\\n\";\n",
        "}\n",
        "void ordenar(short* a, size_t n){\n",
        "  for(int i=0;i<n-1;++i){\n",
        "  for(int j=i+1;j<n;++j){\n",
        "   if(a[i]>a[j]){\n",
        "    short aux=a[i];\n",
        "    a[i]=a[j];\n",
        "    a[j]=aux;\n",
        "  }\n",
        "}\n",
        "    }\n",
        "}\n",
        "void mayorPromedio(short* a, size_t n){\n",
        "  float prom=0.0f;    \n",
        "  //obteniendo el promedio\n",
        "  for(int i=0;i<n-1;++i)\n",
        "        prom+=a[i];\n",
        "  prom/=n;//prom=prom/n   \n",
        "  //listar mayor al promedio\n",
        "  for(int i=0;i<n-1;++i)\n",
        "        if(a[i]>prom)cout<<i<<\"->\"<<a[i]<<\"\\n\";\n",
        "  }"
      ],
      "metadata": {
        "colab": {
          "base_uri": "https://localhost:8080/"
        },
        "id": "ERAEeA61IH15",
        "outputId": "52a0ab2a-93cd-454f-b351-623eefe69ad5"
      },
      "execution_count": 15,
      "outputs": [
        {
          "output_type": "stream",
          "name": "stdout",
          "text": [
            "Writing Biblioteca.cpp\n"
          ]
        }
      ]
    },
    {
      "cell_type": "code",
      "source": [
        "%%writefile ejemplo2.cpp\n",
        "#include \"Biblioteca.hpp\"\n",
        "int main() {\n",
        "short* arreglo=new short[100];  \n",
        "srand(time(NULL));//inicializacion de la semilla\n",
        "generar(arreglo,100);\n",
        "listar(arreglo, 100);\n",
        "//mayor(arreglo, 100);  \n",
        "ordenar(arreglo, 100);\n",
        "cout<<\"-------------\\n\";\n",
        "//listar(arreglo, 100);\n",
        "  mayorPromedio(arreglo, 100);\n",
        "}"
      ],
      "metadata": {
        "colab": {
          "base_uri": "https://localhost:8080/"
        },
        "id": "YV-zPY39IS7i",
        "outputId": "ec42bbd6-8659-44ff-9108-e7ebce6ee33f"
      },
      "execution_count": 16,
      "outputs": [
        {
          "output_type": "stream",
          "name": "stdout",
          "text": [
            "Writing ejemplo2.cpp\n"
          ]
        }
      ]
    },
    {
      "cell_type": "markdown",
      "source": [
        "#Ejemplo 3"
      ],
      "metadata": {
        "id": "jbo1LgFCOG3v"
      }
    },
    {
      "cell_type": "code",
      "source": [
        "%%writefile Biblioteca.hpp\n",
        "#include <iostream>\n",
        "#include <cstdlib>// srand, rand\n",
        "#include <ctime>//time\n",
        "using std::cout;\n",
        "using std::cin;\n",
        "template <typename Generico>\n",
        "class MiArreglo{\n",
        "    Generico* a;\n",
        "    size_t id;\n",
        "    size_t n;\n",
        "    public:\n",
        "    MiArreglo(){\n",
        "        n=10;\n",
        "        a=new Generico[n];\n",
        "        id=0;    }\n",
        "  void insertar(Generico g){\n",
        "      if(id<n)\n",
        "        a[id++]=g;               }\n",
        "  void listar(){\n",
        "    for(size_t i=0;i<n;++i){\n",
        "        cout<<i<<\"-> \"<<a[i]<<\"\\n\";  }  \n",
        "  }\n",
        "};"
      ],
      "metadata": {
        "colab": {
          "base_uri": "https://localhost:8080/"
        },
        "id": "nDaQkJE7IsnB",
        "outputId": "3cb286e7-c15a-4bd8-899d-b6031b494dfb"
      },
      "execution_count": 17,
      "outputs": [
        {
          "output_type": "stream",
          "name": "stdout",
          "text": [
            "Overwriting Biblioteca.hpp\n"
          ]
        }
      ]
    },
    {
      "cell_type": "code",
      "source": [
        "%%writefile ejemplo3.cpp\n",
        "#include \"Biblioteca.hpp\"\n",
        "int main(){\n",
        "    MiArreglo<short>* arr1=new MiArreglo<short>();\n",
        "    MiArreglo<float>* arr2=new MiArreglo<float>();\n",
        "    MiArreglo<long>* arr3=new MiArreglo<long>();\n",
        "    for(size_t i=0;i<10;++i){\n",
        "        arr1->insertar(i);//short\n",
        "        arr2->insertar(i*1.654);//float\n",
        "        arr3->insertar(i*1000000);//long\n",
        "    }\n",
        "    arr1->listar();\n",
        "    cout<<\"\\n\";\n",
        "    arr2->listar();\n",
        "    cout<<\"\\n\";\n",
        "    arr3->listar();\n",
        "}"
      ],
      "metadata": {
        "colab": {
          "base_uri": "https://localhost:8080/"
        },
        "id": "GMROxsopR_5v",
        "outputId": "0e7b04f8-f53a-4325-e33b-be842a51d41d"
      },
      "execution_count": 18,
      "outputs": [
        {
          "output_type": "stream",
          "name": "stdout",
          "text": [
            "Writing ejemplo3.cpp\n"
          ]
        }
      ]
    },
    {
      "cell_type": "code",
      "source": [
        "!g++ ejemplo3.cpp && ./a.out"
      ],
      "metadata": {
        "colab": {
          "base_uri": "https://localhost:8080/"
        },
        "id": "MoDAWyN3T93u",
        "outputId": "511a32fc-4ee6-4437-9600-c947ac047120"
      },
      "execution_count": 19,
      "outputs": [
        {
          "output_type": "stream",
          "name": "stdout",
          "text": [
            "0-> 0\n",
            "1-> 1\n",
            "2-> 2\n",
            "3-> 3\n",
            "4-> 4\n",
            "5-> 5\n",
            "6-> 6\n",
            "7-> 7\n",
            "8-> 8\n",
            "9-> 9\n",
            "\n",
            "0-> 0\n",
            "1-> 1.654\n",
            "2-> 3.308\n",
            "3-> 4.962\n",
            "4-> 6.616\n",
            "5-> 8.27\n",
            "6-> 9.924\n",
            "7-> 11.578\n",
            "8-> 13.232\n",
            "9-> 14.886\n",
            "\n",
            "0-> 0\n",
            "1-> 1000000\n",
            "2-> 2000000\n",
            "3-> 3000000\n",
            "4-> 4000000\n",
            "5-> 5000000\n",
            "6-> 6000000\n",
            "7-> 7000000\n",
            "8-> 8000000\n",
            "9-> 9000000\n"
          ]
        }
      ]
    },
    {
      "cell_type": "code",
      "source": [
        ""
      ],
      "metadata": {
        "id": "TqqCvoFNUAs7"
      },
      "execution_count": null,
      "outputs": []
    }
  ]
}