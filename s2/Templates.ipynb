{
  "nbformat": 4,
  "nbformat_minor": 0,
  "metadata": {
    "colab": {
      "name": "s2-Templates.ipynb",
      "provenance": [],
      "authorship_tag": "ABX9TyOLI9rr9HWVZGOBjDRhMbou"
    },
    "kernelspec": {
      "name": "python3",
      "display_name": "Python 3"
    },
    "language_info": {
      "name": "python"
    }
  },
  "cells": [
    {
      "cell_type": "markdown",
      "source": [
        "#Introducción a Google Colab"
      ],
      "metadata": {
        "id": "ok8Rs3N1S6Xc"
      }
    },
    {
      "cell_type": "markdown",
      "source": [
        "##Ejemplo 1"
      ],
      "metadata": {
        "id": "BRDJUcpJX7gL"
      }
    },
    {
      "cell_type": "code",
      "execution_count": 2,
      "metadata": {
        "colab": {
          "base_uri": "https://localhost:8080/"
        },
        "id": "uUcsZUByShuU",
        "outputId": "e2f8a4e2-2401-4aac-fe52-ede7770489ec"
      },
      "outputs": [
        {
          "output_type": "stream",
          "name": "stdout",
          "text": [
            "Writing hola.cpp\n"
          ]
        }
      ],
      "source": [
        "%%writefile hola.cpp\n",
        "#include <iostream>\n",
        "using std:: cout;\n",
        "int main(){\n",
        "    cout<<\"UPC, exigete e innova\";\n",
        "    \n",
        "    return 0;\n",
        "}"
      ]
    },
    {
      "cell_type": "code",
      "source": [
        "!g++ hola.cpp"
      ],
      "metadata": {
        "id": "jrJNgj80T6X1"
      },
      "execution_count": 3,
      "outputs": []
    },
    {
      "cell_type": "code",
      "source": [
        "!./a.out"
      ],
      "metadata": {
        "colab": {
          "base_uri": "https://localhost:8080/"
        },
        "id": "DuVzWKacUeD5",
        "outputId": "473a0c8b-8bb0-4fee-cf20-8ecf209b3cf9"
      },
      "execution_count": 4,
      "outputs": [
        {
          "output_type": "stream",
          "name": "stdout",
          "text": [
            "UPC, exigete e innova"
          ]
        }
      ]
    },
    {
      "cell_type": "markdown",
      "source": [
        "#Ejemplo 2: Sin Templates\n",
        "Elaborar un programa en entorno consola que permita almacenar en un arreglo hasta 100 valores enteros. Luego realice lo siguiente:\n",
        "*\tGenerar los datos del arreglo en forma aleatoria\n",
        "*\tListar en pantalla los elementos del arreglo\n",
        "*\tBuscar el mayor y mostrar su ubicación\n",
        "*\tBuscar el menor y mostrar su ubicación\n",
        "*\tOrdenar el arreglo en forma descendente y mostrarlo en pantalla.\n",
        "* En la solución considere un menú de opciones para cada funcionalidad y utilice funciones, punteros y arreglos dinámicos."
      ],
      "metadata": {
        "id": "9ro9nl7BX_l0"
      }
    },
    {
      "cell_type": "code",
      "source": [
        "%%writefile Biblioteca.hpp\n",
        "//Definicion de bibliotecas, clases y funciones\n",
        "#include <iostream>\n",
        "#include <cstdlib>// srand, rand\n",
        "#include <ctime>//time\n",
        "using std::cout;\n",
        "using std::cin;\n",
        "//definición de la funcion\n",
        "void generar(short* a, size_t n);\n",
        "void listar(short*, size_t);\n",
        "void mayor(short*, size_t);\n",
        "void ordenar(short*, size_t);\n",
        "void mayorPromedio(short* a, size_t n);"
      ],
      "metadata": {
        "colab": {
          "base_uri": "https://localhost:8080/"
        },
        "id": "iti91cxSYCgt",
        "outputId": "96984beb-daaf-4115-ab77-9c489a4ea1ce"
      },
      "execution_count": 8,
      "outputs": [
        {
          "output_type": "stream",
          "name": "stdout",
          "text": [
            "Writing Biblioteca.hpp\n"
          ]
        }
      ]
    },
    {
      "cell_type": "code",
      "source": [
        "%%writefile Biblioteca.cpp\n",
        "//implementacion de las bibliotecas, clases  y funciones\n",
        "#include \"Biblioteca.hpp\"\n",
        "\n",
        "void generar(short* a, size_t n){\n",
        "  for(size_t i=0;i<n;++i){\n",
        "      a[i]=rand()%101+100;//rango de 100 a 200    \n",
        "  }  \n",
        "}\n",
        "\n",
        "void listar(short* a, size_t n){\n",
        "for(size_t i=0;i<n;++i){\n",
        "      cout<<i<<\"-> \"<<a[i]<<\"\\n\";\n",
        "  }  \n",
        "}\n",
        "\n",
        "void mayor(short* a, size_t n){\n",
        "  short _mayor=a[0], _pos=-1;\n",
        "  \n",
        "for(size_t i=1;i<n;++i){\n",
        "  if(a[i]>_mayor){\n",
        "      _mayor=a[i];//actualizo el mayor\n",
        "      _pos=i;\n",
        "    }\n",
        "  }\n",
        "  cout<<\"El mayor valor es\"<<_mayor<<\" y se encuentra en la posicion\"<<_pos<<\"\\n\";\n",
        "}\n",
        "void ordenar(short* a, size_t n){\n",
        "  for(int i=0;i<n-1;++i){\n",
        "  for(int j=i+1;j<n;++j){\n",
        "   if(a[i]>a[j]){\n",
        "    short aux=a[i];\n",
        "    a[i]=a[j];\n",
        "    a[j]=aux;\n",
        "  }\n",
        "}\n",
        "    }\n",
        "}\n",
        "void mayorPromedio(short* a, size_t n){\n",
        "  float prom=0.0f;    \n",
        "  //obteniendo el promedio\n",
        "  for(int i=0;i<n;++i)\n",
        "        prom+=a[i];\n",
        "  prom/=n;//prom=prom/n   \n",
        "  //listar mayor al promedio\n",
        "  for(int i=0;i<n;++i)\n",
        "        if(a[i]>prom)cout<<i<<\"->\"<<a[i]<<\"\\n\";\n",
        "  }\n",
        "\n",
        "\n"
      ],
      "metadata": {
        "colab": {
          "base_uri": "https://localhost:8080/"
        },
        "id": "A3Nfm3F-ZzTY",
        "outputId": "5b2c18ae-aecf-42c1-a30a-a2d3d59c6c28"
      },
      "execution_count": 14,
      "outputs": [
        {
          "output_type": "stream",
          "name": "stdout",
          "text": [
            "Overwriting Biblioteca.cpp\n"
          ]
        }
      ]
    },
    {
      "cell_type": "code",
      "source": [
        "%%writefile Ejemplo2.cpp\n",
        "#include \"Biblioteca.hpp\"\n",
        "int main() {\n",
        "short* arreglo=new short[100];  \n",
        "srand(time(NULL));//inicializacion de la semilla\n",
        "generar(arreglo,100);\n",
        "listar(arreglo, 100);\n",
        "//mayor(arreglo, 100);  \n",
        "ordenar(arreglo, 100);\n",
        "cout<<\"-------------\\n\";\n",
        "//listar(arreglo, 100);\n",
        "  mayorPromedio(arreglo, 100);\n",
        "}"
      ],
      "metadata": {
        "colab": {
          "base_uri": "https://localhost:8080/"
        },
        "id": "5GblGAUnZ5-K",
        "outputId": "7b943312-112d-4696-a47e-9d078461b41f"
      },
      "execution_count": 15,
      "outputs": [
        {
          "output_type": "stream",
          "name": "stdout",
          "text": [
            "Overwriting Ejemplo2.cpp\n"
          ]
        }
      ]
    },
    {
      "cell_type": "code",
      "source": [
        "!g++ Biblioteca.cpp Ejemplo2.cpp"
      ],
      "metadata": {
        "id": "53lMeRLuaA16"
      },
      "execution_count": 16,
      "outputs": []
    },
    {
      "cell_type": "code",
      "source": [
        "!./a.out"
      ],
      "metadata": {
        "id": "VmKn02Oxaxlk"
      },
      "execution_count": null,
      "outputs": []
    },
    {
      "cell_type": "markdown",
      "source": [
        "#Ejemplo 3: con templates"
      ],
      "metadata": {
        "id": "K8ep-DM4cnXI"
      }
    },
    {
      "cell_type": "code",
      "source": [
        "%%writefile Biblioteca.hpp\n",
        "#include <iostream>\n",
        "using std::cout;\n",
        "template <typename Generico>\n",
        "class MiArreglo{\n",
        "    Generico* a;\n",
        "    size_t n;\n",
        "    public:\n",
        "    MiArreglo(){\n",
        "        a=new Generico[10];\n",
        "        n=0;\n",
        "    }\n",
        "    void insertar(Generico _a){\n",
        "        if(n<10)\n",
        "          a[n++]=_a;\n",
        "    }\n",
        "    void listar(){\n",
        "      for(size_t i=0;i<n;++i){\n",
        "        cout<<i<<\"-> \"<<a[i]<<\"\\n\";\n",
        "    }  \n",
        "}   \n",
        "\n",
        "};\n"
      ],
      "metadata": {
        "colab": {
          "base_uri": "https://localhost:8080/"
        },
        "id": "wvrDkH2ca_HW",
        "outputId": "6039bb84-0ec4-4fe7-f0f9-4d42e197f6a7"
      },
      "execution_count": 41,
      "outputs": [
        {
          "output_type": "stream",
          "name": "stdout",
          "text": [
            "Overwriting Biblioteca.hpp\n"
          ]
        }
      ]
    },
    {
      "cell_type": "code",
      "source": [
        "%%writefile Ejemplo3.cpp\n",
        "#include \"Biblioteca.hpp\"\n",
        "int main() {\n",
        "    MiArreglo<short>* arreglo1=new MiArreglo<short>();\n",
        "    MiArreglo<float>* arreglo2=new MiArreglo<float>();\n",
        "    MiArreglo<long>* arreglo3=new MiArreglo<long>();\n",
        "    for(size_t i=0;i<5;++i){\n",
        "        arreglo1->insertar(i);//enteros cortos\n",
        "        arreglo2->insertar(i*1.159);//decimales\n",
        "        arreglo3->insertar(i*10000);//enteros largos\n",
        "    }\n",
        "    arreglo1->listar();\n",
        "    cout<<\"\\n\";\n",
        "    arreglo2->listar();\n",
        "    cout<<\"\\n\";\n",
        "    arreglo3->listar();\n",
        "    cout<<\"\\n\";\n",
        "}"
      ],
      "metadata": {
        "colab": {
          "base_uri": "https://localhost:8080/"
        },
        "id": "eomO5o2efNa6",
        "outputId": "19fb516d-eab0-416b-ab11-0c0538648eab"
      },
      "execution_count": 42,
      "outputs": [
        {
          "output_type": "stream",
          "name": "stdout",
          "text": [
            "Overwriting Ejemplo3.cpp\n"
          ]
        }
      ]
    },
    {
      "cell_type": "code",
      "source": [
        "!g++ Ejemplo3.cpp && ./a.out"
      ],
      "metadata": {
        "colab": {
          "base_uri": "https://localhost:8080/"
        },
        "id": "IAEvsEK0gOUi",
        "outputId": "7fc76a02-9f7a-49c9-9349-82966c849b51"
      },
      "execution_count": 43,
      "outputs": [
        {
          "output_type": "stream",
          "name": "stdout",
          "text": [
            "0-> 0\n",
            "1-> 1\n",
            "2-> 2\n",
            "3-> 3\n",
            "4-> 4\n",
            "\n",
            "0-> 0\n",
            "1-> 1.159\n",
            "2-> 2.318\n",
            "3-> 3.477\n",
            "4-> 4.636\n",
            "\n",
            "0-> 0\n",
            "1-> 10000\n",
            "2-> 20000\n",
            "3-> 30000\n",
            "4-> 40000\n",
            "\n"
          ]
        }
      ]
    },
    {
      "cell_type": "code",
      "source": [
        ""
      ],
      "metadata": {
        "id": "UYk2ve2tgVrD"
      },
      "execution_count": null,
      "outputs": []
    }
  ]
}