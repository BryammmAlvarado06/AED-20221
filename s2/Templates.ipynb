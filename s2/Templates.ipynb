{
  "nbformat": 4,
  "nbformat_minor": 0,
  "metadata": {
    "colab": {
      "name": "Templates.ipynb",
      "provenance": [],
      "authorship_tag": "ABX9TyMaQSu6PLFyksFb3TSLydkW"
    },
    "kernelspec": {
      "name": "python3",
      "display_name": "Python 3"
    },
    "language_info": {
      "name": "python"
    }
  },
  "cells": [
    {
      "cell_type": "markdown",
      "source": [
        "#Ejemplo1"
      ],
      "metadata": {
        "id": "IDOSFfaryRhe"
      }
    },
    {
      "cell_type": "code",
      "execution_count": 9,
      "metadata": {
        "colab": {
          "base_uri": "https://localhost:8080/"
        },
        "id": "mA9zBAl_u9IX",
        "outputId": "10ff3ba0-3634-4a12-8999-dbdc20a3b0cf"
      },
      "outputs": [
        {
          "output_type": "stream",
          "name": "stdout",
          "text": [
            "Overwriting ejemplo1.cpp\n"
          ]
        }
      ],
      "source": [
        "%%writefile ejemplo1.cpp\n",
        "#include <iostream>\n",
        "using namespace std;\n",
        "int main(){\n",
        "    cout<<\"UPC\";\n",
        "    return 0;\n",
        "}"
      ]
    },
    {
      "cell_type": "markdown",
      "source": [
        "* Compilación desde la linea de comando y ejecución"
      ],
      "metadata": {
        "id": "Zu3tXH2QvzRh"
      }
    },
    {
      "cell_type": "code",
      "source": [
        "!g++ -std=c++1z ejemplo1.cpp"
      ],
      "metadata": {
        "id": "MXLNRBW3vpHr"
      },
      "execution_count": 16,
      "outputs": []
    },
    {
      "cell_type": "code",
      "source": [
        "!./a.out"
      ],
      "metadata": {
        "colab": {
          "base_uri": "https://localhost:8080/"
        },
        "id": "nQ2Xjcrwv5wg",
        "outputId": "78f8596b-7f18-4104-865e-6cdb40336c49"
      },
      "execution_count": 17,
      "outputs": [
        {
          "output_type": "stream",
          "name": "stdout",
          "text": [
            "UPC"
          ]
        }
      ]
    },
    {
      "cell_type": "code",
      "source": [
        "!g++ -std=c++1z ejemplo1.cpp && ./a.out"
      ],
      "metadata": {
        "colab": {
          "base_uri": "https://localhost:8080/"
        },
        "id": "b2yv8nP0wB_d",
        "outputId": "78c15a65-d017-4a53-af84-fba8904daf9a"
      },
      "execution_count": 18,
      "outputs": [
        {
          "output_type": "stream",
          "name": "stdout",
          "text": [
            "UPC"
          ]
        }
      ]
    },
    {
      "cell_type": "markdown",
      "source": [
        "#Ejemplo2"
      ],
      "metadata": {
        "id": "80IlbdUFyVBM"
      }
    },
    {
      "cell_type": "code",
      "source": [
        "%%writefile Biblioteca.hpp\n",
        "//Definicion de bibliotecas, clases y funciones\n",
        "#include <iostream>\n",
        "#include <cstdlib>// srand, rand\n",
        "#include <ctime>//time\n",
        "\n",
        "using std::cout;\n",
        "using std::cin;\n",
        "//definición de la funcion\n",
        "void generar(short* a, size_t n);\n",
        "void listar(short*, size_t);\n",
        "void mayor(short*, size_t);\n",
        "void ordenar(short*, size_t);\n",
        "void mayorPromedio(short* a, size_t n);"
      ],
      "metadata": {
        "colab": {
          "base_uri": "https://localhost:8080/"
        },
        "id": "JS3gF15JyIoc",
        "outputId": "81dabb6d-435d-4575-a4ad-da556eadf787"
      },
      "execution_count": 26,
      "outputs": [
        {
          "output_type": "stream",
          "name": "stdout",
          "text": [
            "Overwriting Biblioteca.hpp\n"
          ]
        }
      ]
    },
    {
      "cell_type": "code",
      "source": [
        "%%writefile Biblioteca.cpp\n",
        "//implementacion de las bibliotecas, clases  y funciones\n",
        "#include \"Biblioteca.hpp\"\n",
        "\n",
        "void generar(short* a, size_t n){\n",
        "  for(size_t i=0;i<n;++i){\n",
        "      a[i]=rand()%101+100;//rango de 100 a 200    \n",
        "  }  \n",
        "}\n",
        "\n",
        "void listar(short* a, size_t n){\n",
        "for(size_t i=0;i<n;++i){\n",
        "      cout<<i<<\"-> \"<<a[i]<<\"\\n\";\n",
        "  }  \n",
        "}\n",
        "\n",
        "void mayor(short* a, size_t n){\n",
        "  short _mayor=a[0], _pos=-1;\n",
        "  \n",
        "for(size_t i=1;i<n;++i){\n",
        "  if(a[i]>_mayor){\n",
        "      _mayor=a[i];//actualizo el mayor\n",
        "      _pos=i;\n",
        "    }\n",
        "  }\n",
        "  cout<<\"El mayor valor es\"<<_mayor<<\" y se encuentra en la posicion\"<<_pos<<\"\\n\";\n",
        "}\n",
        "void ordenar(short* a, size_t n){\n",
        "  for(int i=0;i<n-1;++i){\n",
        "  for(int j=i+1;j<n;++j){\n",
        "   if(a[i]>a[j]){\n",
        "    short aux=a[i];\n",
        "    a[i]=a[j];\n",
        "    a[j]=aux;\n",
        "  }\n",
        "}\n",
        "    }\n",
        "}\n",
        "void mayorPromedio(short* a, size_t n){\n",
        "  float prom=0.0f;    \n",
        "  //obteniendo el promedio\n",
        "  for(int i=0;i<n;++i)\n",
        "        prom+=a[i];\n",
        "  prom/=n;//prom=prom/n   \n",
        "  //listar mayor al promedio\n",
        "  for(int i=0;i<n;++i)\n",
        "        if(a[i]>prom)cout<<i<<\"->\"<<a[i]<<\"\\n\";\n",
        "  }\n",
        "\n",
        "\n"
      ],
      "metadata": {
        "colab": {
          "base_uri": "https://localhost:8080/"
        },
        "id": "MyOqrsoE1Tq8",
        "outputId": "da27543f-af12-406f-c0fb-2a1f5ae48406"
      },
      "execution_count": 27,
      "outputs": [
        {
          "output_type": "stream",
          "name": "stdout",
          "text": [
            "Overwriting Biblioteca.cpp\n"
          ]
        }
      ]
    },
    {
      "cell_type": "code",
      "source": [
        "%%writefile ejemplo2.cpp\n",
        "#include \"Biblioteca.hpp\"\n",
        "int main() {\n",
        "short* arreglo=new short[100];  \n",
        "srand(time(NULL));//inicializacion de la semilla\n",
        "generar(arreglo,100);\n",
        "listar(arreglo, 100);\n",
        "//mayor(arreglo, 100);  \n",
        "ordenar(arreglo, 100);\n",
        "cout<<\"-------------\\n\";\n",
        "//listar(arreglo, 100);\n",
        "  mayorPromedio(arreglo, 100);\n",
        "}"
      ],
      "metadata": {
        "colab": {
          "base_uri": "https://localhost:8080/"
        },
        "id": "Bn-MWXfD1ejd",
        "outputId": "81faf49e-d95d-4402-f246-c9f575039c10"
      },
      "execution_count": 28,
      "outputs": [
        {
          "output_type": "stream",
          "name": "stdout",
          "text": [
            "Overwriting ejemplo2.cpp\n"
          ]
        }
      ]
    },
    {
      "cell_type": "code",
      "source": [
        "!g++ -std=c++1z Biblioteca.cpp ejemplo2.cpp && ./a.out"
      ],
      "metadata": {
        "id": "6v5phYOx1s34"
      },
      "execution_count": null,
      "outputs": []
    },
    {
      "cell_type": "markdown",
      "source": [
        "#Ejemplo 3-Con templates"
      ],
      "metadata": {
        "id": "4H-T7cRl5nct"
      }
    },
    {
      "cell_type": "code",
      "source": [
        "%%writefile Biblioteca.hpp\n",
        "#include <iostream>\n",
        "#include <cstdlib>// srand, rand\n",
        "#include <ctime>//time\n",
        "using std::cout;\n",
        "using std::cin;\n",
        "template <typename Generico>\n",
        "class MyVector{\n",
        "    Generico* a;\n",
        "    size_t n;\n",
        "    public:\n",
        "    MyVector(){\n",
        "        a=new Generico[10]; n=0;\n",
        "    }\n",
        "    void insertar(Generico obj ){\n",
        "        if(n<10)\n",
        "          a[n++]=obj;        \n",
        "    }\n",
        "    void listar(){\n",
        "      for(size_t i=0;i<n;++i){\n",
        "        cout<<i<<\"-> \"<<a[i]<<\"\\n\";\n",
        "    }  \n",
        "}\n",
        "};\n"
      ],
      "metadata": {
        "colab": {
          "base_uri": "https://localhost:8080/"
        },
        "id": "8Sunk6_H31yy",
        "outputId": "b98650f4-d4d8-49ec-cceb-e817aef9ede7"
      },
      "execution_count": 39,
      "outputs": [
        {
          "output_type": "stream",
          "name": "stdout",
          "text": [
            "Overwriting Biblioteca.hpp\n"
          ]
        }
      ]
    },
    {
      "cell_type": "code",
      "source": [
        "%%writefile Ejemplo3.cpp\n",
        "#include<iostream>\n",
        "#include\"Biblioteca.hpp\"\n",
        "using namespace std;\n",
        "int main(){\n",
        "    MyVector<int>*arr1 =new  MyVector<int>;\n",
        "    MyVector<float>*arr2 =new  MyVector<float>;\n",
        "    MyVector<long>*arr3 =new  MyVector<long>;\n",
        "    for(size_t i=0;  i<10; i++){\n",
        "        arr1->insertar(i);\n",
        "        arr2->insertar(i*1.789);\n",
        "        arr3->insertar(i*1000000);\n",
        "    }\n",
        "      arr1->listar();\n",
        "      cout<<\"---------------\"<<endl;\n",
        "      arr2->listar();\n",
        "      cout<<\"---------------\"<<endl;\n",
        "      arr3->listar();\n",
        "}"
      ],
      "metadata": {
        "colab": {
          "base_uri": "https://localhost:8080/"
        },
        "id": "LWRbYHhj6ZJr",
        "outputId": "c3119927-20cc-4cd7-ea47-7c8dce2705e9"
      },
      "execution_count": 40,
      "outputs": [
        {
          "output_type": "stream",
          "name": "stdout",
          "text": [
            "Overwriting Ejemplo3.cpp\n"
          ]
        }
      ]
    },
    {
      "cell_type": "code",
      "source": [
        "!g++ -std=c++11 Ejemplo3.cpp  && ./a.out"
      ],
      "metadata": {
        "colab": {
          "base_uri": "https://localhost:8080/"
        },
        "id": "RgJaSD2XEsGE",
        "outputId": "66f3d417-3f26-4c61-8399-d3757be65309"
      },
      "execution_count": 41,
      "outputs": [
        {
          "output_type": "stream",
          "name": "stdout",
          "text": [
            "0-> 0\n",
            "1-> 1\n",
            "2-> 2\n",
            "3-> 3\n",
            "4-> 4\n",
            "5-> 5\n",
            "6-> 6\n",
            "7-> 7\n",
            "8-> 8\n",
            "9-> 9\n",
            "---------------\n",
            "0-> 0\n",
            "1-> 1.789\n",
            "2-> 3.578\n",
            "3-> 5.367\n",
            "4-> 7.156\n",
            "5-> 8.945\n",
            "6-> 10.734\n",
            "7-> 12.523\n",
            "8-> 14.312\n",
            "9-> 16.101\n",
            "---------------\n",
            "0-> 0\n",
            "1-> 1000000\n",
            "2-> 2000000\n",
            "3-> 3000000\n",
            "4-> 4000000\n",
            "5-> 5000000\n",
            "6-> 6000000\n",
            "7-> 7000000\n",
            "8-> 8000000\n",
            "9-> 9000000\n"
          ]
        }
      ]
    },
    {
      "cell_type": "code",
      "source": [
        ""
      ],
      "metadata": {
        "id": "q70livI8EyGi"
      },
      "execution_count": null,
      "outputs": []
    }
  ]
}